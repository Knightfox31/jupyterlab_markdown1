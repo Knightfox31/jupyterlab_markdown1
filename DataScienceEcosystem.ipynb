{
 "cells": [
  {
   "cell_type": "markdown",
   "id": "9247c74f-7740-443b-a5a9-ee58faacc0e7",
   "metadata": {},
   "source": [
    "# Data Science Tools and Ecosystem\n"
   ]
  },
  {
   "cell_type": "markdown",
   "id": "f26b4e82-97b3-49e1-89b7-4580199b754c",
   "metadata": {},
   "source": [
    "## In this notebook, Data Science Tools and Ecosystem are Summarized."
   ]
  },
  {
   "cell_type": "markdown",
   "id": "db88fbf2-d411-4e82-93b6-39d0d6d345d6",
   "metadata": {},
   "source": [
    "**Objectives:**\n",
    "- Popular Languages for data science\n",
    "- Commonly used Libraries for data science\n",
    "- Create and format Markdown documentation\n",
    "- Explore arithmetic expressions in Python\n"
   ]
  },
  {
   "cell_type": "markdown",
   "id": "4edfa7d2-dbd1-4f8e-8b4d-afa2319e1cb4",
   "metadata": {},
   "source": [
    "### Some of the popular languages that Data scientists use are : \n",
    "1. Python\n",
    "2. R\n",
    "3. SQL\n",
    "4. Scala\n"
   ]
  },
  {
   "cell_type": "markdown",
   "id": "a60c5acb-bd83-4a2d-9599-036ba4efb61b",
   "metadata": {},
   "source": [
    "## Some of the commonly used libraries used by Data Scientists include:\n",
    "1. Numpy\n",
    "2. Scipy\n",
    "3. Scikit-learn\n",
    "4. Matplotlib\n",
    "5. Tensorflow"
   ]
  },
  {
   "cell_type": "markdown",
   "id": "f2fe3b8e-e3a9-4c63-a7ad-256e6465fc48",
   "metadata": {},
   "source": [
    "| Data Science Tools |\n",
    "| :------------------ |\n",
    "| RStudio |\n",
    "|Python|\n",
    "| Tensorflow |\n",
    "|Apache Spark |"
   ]
  },
  {
   "cell_type": "markdown",
   "id": "9def30af-e87a-42bb-bad4-af31a392d8f5",
   "metadata": {},
   "source": [
    "### Below are few examples of evaluating arithmetic expressions in Python"
   ]
  },
  {
   "cell_type": "code",
   "execution_count": 4,
   "id": "641382f2-fa01-4aee-80b5-bfe717aad2f3",
   "metadata": {},
   "outputs": [
    {
     "data": {
      "text/plain": [
       "17"
      ]
     },
     "execution_count": 4,
     "metadata": {},
     "output_type": "execute_result"
    }
   ],
   "source": [
    "# This a simple arithmetic expression to multiply then add integers\n",
    "(3*4)+5"
   ]
  },
  {
   "cell_type": "code",
   "execution_count": 7,
   "id": "ded12a26-f914-4e37-a7a3-d5d31fc42c17",
   "metadata": {},
   "outputs": [
    {
     "name": "stdout",
     "output_type": "stream",
     "text": [
      "200 minutes is equal to 3.3333333333333335 hours\n"
     ]
    }
   ],
   "source": [
    "# This will convert 200 minutes to hours by diving by 60\n",
    "minutes = 200\n",
    "hours = minutes/60\n",
    "print(f\"{minutes} minutes is equal to {hours} hours\")"
   ]
  },
  {
   "cell_type": "markdown",
   "id": "3e8020ff-912a-4d98-821b-02346284c3f6",
   "metadata": {},
   "source": [
    "## Author\n",
    "Pius Saurabh"
   ]
  },
  {
   "cell_type": "code",
   "execution_count": null,
   "id": "94e406d2-a09c-46f8-86d2-6513e92ade5e",
   "metadata": {},
   "outputs": [],
   "source": []
  }
 ],
 "metadata": {
  "kernelspec": {
   "display_name": "Python 3 (ipykernel)",
   "language": "python",
   "name": "python3"
  },
  "language_info": {
   "codemirror_mode": {
    "name": "ipython",
    "version": 3
   },
   "file_extension": ".py",
   "mimetype": "text/x-python",
   "name": "python",
   "nbconvert_exporter": "python",
   "pygments_lexer": "ipython3",
   "version": "3.12.8"
  }
 },
 "nbformat": 4,
 "nbformat_minor": 5
}
